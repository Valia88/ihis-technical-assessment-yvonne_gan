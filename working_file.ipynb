{
 "cells": [
  {
   "attachments": {},
   "cell_type": "markdown",
   "metadata": {},
   "source": [
    "# Technical Assessment Test for IHiS "
   ]
  },
  {
   "attachments": {},
   "cell_type": "markdown",
   "metadata": {},
   "source": [
    "The Technical Assessment working file is following the order of the instruction document.\n",
    "\n",
    "**Table of Contents**\n",
    "</b>\n",
    "1. Data Preparation\n",
    "2. Task 01 - New NRIC\n",
    "3. Task 02 - Coding - Gender\n",
    "4. Task 03 - Age Group\n",
    "5. Task 04 - Study Number\n",
    "6. Task 05 - Worksheet: Study Data\n",
    "7. Task 06 - Worksheet: Exception List\n",
    "8. Task 07 - Pivot Table (Mainly completed in Excel Pivot saved separately)\n",
    "\n"
   ]
  },
  {
   "attachments": {},
   "cell_type": "markdown",
   "metadata": {
    "tags": [
     "Data Preparation"
    ]
   },
   "source": [
    "## Data Preparation"
   ]
  },
  {
   "cell_type": "code",
   "execution_count": null,
   "metadata": {},
   "outputs": [],
   "source": [
    "#import python library package\n",
    "import pandas as pd\n",
    "import numpy as np\n"
   ]
  },
  {
   "attachments": {},
   "cell_type": "markdown",
   "metadata": {},
   "source": [
    "### Import/Read Demographics Worksheet"
   ]
  },
  {
   "cell_type": "code",
   "execution_count": null,
   "metadata": {},
   "outputs": [],
   "source": [
    "#Reading data from Excel Sheet name \"Demographics\"\n",
    "data = pd.read_excel(\"01_source_files/Technical Test.xls\", sheet_name=\"Demographics\")\n",
    "data.head()"
   ]
  },
  {
   "cell_type": "code",
   "execution_count": null,
   "metadata": {},
   "outputs": [],
   "source": [
    "#To understand the size of the dataset\n",
    "print(data.shape, '\\n')\n",
    "\n",
    "# Quick review of the dataset details, types etc\n",
    "data.info()\n",
    "\n"
   ]
  },
  {
   "cell_type": "code",
   "execution_count": null,
   "metadata": {},
   "outputs": [],
   "source": [
    "data.isna().sum()"
   ]
  },
  {
   "attachments": {},
   "cell_type": "markdown",
   "metadata": {},
   "source": [
    "### Import/Read Study Data Worksheet"
   ]
  },
  {
   "cell_type": "code",
   "execution_count": null,
   "metadata": {},
   "outputs": [],
   "source": [
    "#Reading data from Excel Sheet name \"Study Data\"\n",
    "study_data =  pd.read_excel(\"01_source_files/Technical Test.xls\", sheet_name=\"Study Data\")\n",
    "study_data.head()"
   ]
  },
  {
   "cell_type": "code",
   "execution_count": null,
   "metadata": {},
   "outputs": [],
   "source": [
    "#To understand the size of the dataset\n",
    "print(study_data.shape, '\\n')\n",
    "\n",
    "# Quick review of the dataset details, types etc\n",
    "study_data.info()"
   ]
  },
  {
   "attachments": {},
   "cell_type": "markdown",
   "metadata": {},
   "source": [
    "### Import/Read Extra Information Worksheet"
   ]
  },
  {
   "cell_type": "code",
   "execution_count": null,
   "metadata": {},
   "outputs": [],
   "source": [
    "#Reading data from Excel Sheet name \"Extra information\"\n",
    "data_extra =  pd.read_excel(\"01_source_files/Technical Test.xls\", sheet_name=\"Extra information\")\n",
    "data_extra.head()"
   ]
  },
  {
   "cell_type": "code",
   "execution_count": null,
   "metadata": {},
   "outputs": [],
   "source": [
    "#To understand the size of the dataset\n",
    "print(data_extra.shape, '\\n')\n",
    "\n",
    "# Quick review of the dataset details, types etc\n",
    "data_extra.info()"
   ]
  },
  {
   "attachments": {},
   "cell_type": "markdown",
   "metadata": {},
   "source": [
    "## New NRIC"
   ]
  },
  {
   "cell_type": "code",
   "execution_count": null,
   "metadata": {},
   "outputs": [],
   "source": [
    "#Noticed some empty space in between, removed them by using .replace()\n",
    "data[\"NRIC\"] = data.NRIC.str.replace(\" \",\"\")\n",
    "data.head()"
   ]
  },
  {
   "cell_type": "code",
   "execution_count": null,
   "metadata": {},
   "outputs": [],
   "source": [
    "#creating a separate dataframe just with the NRIC value for easier aggregate the data, then apply it back to the original dataset\n",
    "nric_list = pd.DataFrame(data[\"NRIC\"])\n",
    "print(nric_list.shape)\n",
    "nric_list.head()"
   ]
  },
  {
   "cell_type": "code",
   "execution_count": null,
   "metadata": {},
   "outputs": [],
   "source": [
    "#using for loop and if else method to inspect the dataset, also correcting the messed up NRIC underneath\n",
    "new_preprocessed_nric = []\n",
    "\n",
    "for ic in nric_list[\"NRIC\"]:\n",
    "    if (ic[0] and ic[-1]).isalpha() == True:\n",
    "        new_preprocessed_nric.append(ic)\n",
    "    else:\n",
    "\n",
    "        start_char = []\n",
    "        end_char = []\n",
    "        numbers = []\n",
    "\n",
    "        if (ic[0]).isdigit() == False:\n",
    "            start_char.append(ic[0])\n",
    "        if (ic[1]).isdigit() == False:\n",
    "            end_char.append(ic[1])\n",
    "        if (ic[2:]).isdigit() == True:\n",
    "            numbers.append(ic[2:])\n",
    "\n",
    "        new_preprocessed_nric.append(\"\".join((start_char+numbers+end_char)))        "
   ]
  },
  {
   "cell_type": "code",
   "execution_count": null,
   "metadata": {},
   "outputs": [],
   "source": [
    "# create new dataframe with the list contained revised/corrected NRIC values\n",
    "new_nric_list = pd.DataFrame(new_preprocessed_nric, columns=[\"NRIC\"])\n",
    "new_nric_list.head()"
   ]
  },
  {
   "cell_type": "code",
   "execution_count": null,
   "metadata": {},
   "outputs": [],
   "source": [
    "# apply the newly formatted NRIC back to the original dataset\n",
    "data[\"New NRIC\"] = new_nric_list[\"NRIC\"]\n",
    "data.head()"
   ]
  },
  {
   "attachments": {},
   "cell_type": "markdown",
   "metadata": {},
   "source": [
    "## Coding - Gender"
   ]
  },
  {
   "cell_type": "code",
   "execution_count": null,
   "metadata": {},
   "outputs": [],
   "source": [
    "#Function to label/code Gender Group\n",
    "\n",
    "def gender_code(gender_cols):\n",
    "   if gender_cols == \"F\" :\n",
    "      return 1\n",
    "   else:\n",
    "      return 2\n"
   ]
  },
  {
   "cell_type": "code",
   "execution_count": null,
   "metadata": {},
   "outputs": [],
   "source": [
    "#Apply the function with the return values to Gender Group Column\n",
    "data[\"Coding - Gender\"] = data[\"Gender\"].apply (lambda gender_cols: gender_code(gender_cols))\n",
    "data.head()"
   ]
  },
  {
   "cell_type": "code",
   "execution_count": null,
   "metadata": {},
   "outputs": [],
   "source": [
    "# display the unique/ distinct value of the new gender labels\n",
    "np.sort(data[\"Coding - Gender\"].unique())"
   ]
  },
  {
   "attachments": {},
   "cell_type": "markdown",
   "metadata": {},
   "source": [
    "## Age Group"
   ]
  },
  {
   "cell_type": "code",
   "execution_count": null,
   "metadata": {},
   "outputs": [],
   "source": [
    "#Function to define and categories Age Group\n",
    "\n",
    "def age_group(age_cols):\n",
    "   if age_cols <= 9 :\n",
    "      return \"G1\"\n",
    "   if age_cols >= 10 and age_cols <= 19:\n",
    "      return \"G2\"\n",
    "   if age_cols >= 20 and age_cols <= 29:\n",
    "      return \"G3\"\n",
    "   if age_cols >= 30 and age_cols <= 39:\n",
    "      return \"G4\"  \n",
    "   if age_cols >= 40 and age_cols <= 49:\n",
    "      return \"G5\"\n",
    "   if age_cols >= 50 and age_cols <= 59:\n",
    "      return \"G6\"\n",
    "   if age_cols >= 60 and age_cols <= 69:\n",
    "      return \"G7\"  \n",
    "   if age_cols >= 70 and age_cols <= 79:\n",
    "      return \"G8\"\n",
    "   if age_cols >= 80 and age_cols <= 89:\n",
    "      return \"G9\"\n",
    "   if age_cols >= 90:\n",
    "      return \"G0\"        \n"
   ]
  },
  {
   "cell_type": "code",
   "execution_count": null,
   "metadata": {},
   "outputs": [],
   "source": [
    "#Apply the function with the return values to Age Group Column\n",
    "data[\"Age Group\"] = data[\"Age\"].apply (lambda age_cols: age_group(age_cols))\n",
    "data.head()"
   ]
  },
  {
   "cell_type": "code",
   "execution_count": null,
   "metadata": {},
   "outputs": [],
   "source": [
    "# display the unique/ distinct value of the new age group labels\n",
    "np.sort(data[\"Age Group\"].unique())"
   ]
  },
  {
   "attachments": {},
   "cell_type": "markdown",
   "metadata": {},
   "source": [
    "## Study Number"
   ]
  },
  {
   "cell_type": "code",
   "execution_count": null,
   "metadata": {},
   "outputs": [],
   "source": [
    "# Combine the Age Group value/string with the Gender coding to form the new Study Number per requirement\n",
    "data[\"Study Number\"] = data[\"Age Group\"] + \" - \" + data[\"Coding - Gender\"].astype(str)\n",
    "data.head(10)"
   ]
  },
  {
   "attachments": {},
   "cell_type": "markdown",
   "metadata": {},
   "source": [
    "## Worksheet: Study Data"
   ]
  },
  {
   "cell_type": "code",
   "execution_count": null,
   "metadata": {},
   "outputs": [],
   "source": [
    "# Convert to String to prevent the contact number shows as floating number\n",
    "data_extra[\"Contact Number\"] = data_extra[\"Contact Number\"].astype(str)"
   ]
  },
  {
   "attachments": {},
   "cell_type": "markdown",
   "metadata": {},
   "source": [
    "### Combination of Worksheets for Study Data"
   ]
  },
  {
   "cell_type": "code",
   "execution_count": null,
   "metadata": {},
   "outputs": [],
   "source": [
    "#Merging/combine the data in Demographics worksheet and Extra Information worksheet\n",
    "demo_n_extra = data.merge(data_extra, how =\"left\", on=\"NRIC\")\n",
    "demo_n_extra.head(10)"
   ]
  },
  {
   "cell_type": "code",
   "execution_count": null,
   "metadata": {},
   "outputs": [],
   "source": [
    "#To understand the size of the dataset\n",
    "print(demo_n_extra.shape, '\\n')\n",
    "\n",
    "# Quick review of the dataset details, types etc\n",
    "demo_n_extra.info()\n"
   ]
  },
  {
   "cell_type": "code",
   "execution_count": null,
   "metadata": {},
   "outputs": [],
   "source": [
    "#random check on those columns shows as NaN is indeed not found match in Extra Information Worksheet based on Demographics Worksheet\n",
    "data_extra[data_extra[\"NRIC\"] == \"SA9787544\"]"
   ]
  },
  {
   "cell_type": "code",
   "execution_count": null,
   "metadata": {},
   "outputs": [],
   "source": [
    "#Quick check how many rows contain NaN\n",
    "demo_n_extra.isna().sum()"
   ]
  },
  {
   "cell_type": "code",
   "execution_count": null,
   "metadata": {},
   "outputs": [],
   "source": [
    "# Renaming the NRIC column so that can match with the column naming in Study Data for the merge condition\n",
    "demo_n_extra = demo_n_extra.rename(columns={\"NRIC\":\"Old NRIC\"})\n",
    "demo_n_extra.head()"
   ]
  },
  {
   "attachments": {},
   "cell_type": "markdown",
   "metadata": {},
   "source": [
    "### Final Combine to Study Data"
   ]
  },
  {
   "cell_type": "code",
   "execution_count": null,
   "metadata": {},
   "outputs": [],
   "source": [
    "#Merge or Join data based on columns name\n",
    "new_data = study_data.merge(demo_n_extra, how =\"right\", on=\"Old NRIC\")\n",
    "\n",
    "#drop the unnecessary columns\n",
    "new_data.drop(columns=[\"Study Number_x\",\"New NRIC_x\", \"Gender_x\", \"Age_x\", \"Marital Status_x\", \"Address 1_x\", \"Address 2_x\", \"Contact Number_x\", \"Ethnic Group_x\"], inplace=True)\n",
    "new_data.head()"
   ]
  },
  {
   "cell_type": "code",
   "execution_count": null,
   "metadata": {},
   "outputs": [],
   "source": [
    "#To understand the size of the dataset. We can see it's still 117 rows exist.\n",
    "print(new_data.shape, '\\n')\n",
    "\n",
    "# Quick review of the dataset details, types etc\n",
    "new_data.info()"
   ]
  },
  {
   "cell_type": "code",
   "execution_count": null,
   "metadata": {},
   "outputs": [],
   "source": [
    "#Rename the columns without the suffix\n",
    "new_data = new_data.rename(columns={\"Gender_y\":\"Gender\",\n",
    "                                    \"Age_y\": \"Age\",\n",
    "                                    \"Marital Status_y\": \"Marital Status\",\t\n",
    "                                    \"New NRIC_y\": \"New NRIC\",\n",
    "                                    \"Study Number_y\": \"Study Number\",\n",
    "                                    \"Address 1_y\": \"Address 1\",\n",
    "                                    \"Address 2_y\": \"Address 2\",\n",
    "                                    \"Contact Number_y\":\t\"Contact Number\",\n",
    "                                    \"Ethnic Group_y\": \"Ethnic Group\"\n",
    "                                    })\n",
    "new_data.head()"
   ]
  },
  {
   "cell_type": "code",
   "execution_count": null,
   "metadata": {},
   "outputs": [],
   "source": [
    "#Reoder the dataset based on given requirement.\n",
    "new_data = new_data[[\"Study Number\", \"Old NRIC\", \"New NRIC\", \"Gender\", \"Age\", \"Marital Status\", \"Address 1\", \"Address 2\", \"Contact Number\", \"Ethnic Group\"]]\n",
    "new_data.head()"
   ]
  },
  {
   "cell_type": "code",
   "execution_count": null,
   "metadata": {},
   "outputs": [],
   "source": [
    "#export to excel, stored under 02_exported_worksheet folder\n",
    "new_data.to_excel(\"02_exported_worksheet/study_data_final.xlsx\")"
   ]
  },
  {
   "attachments": {},
   "cell_type": "markdown",
   "metadata": {},
   "source": [
    "## Worksheet: Exception List"
   ]
  },
  {
   "attachments": {},
   "cell_type": "markdown",
   "metadata": {},
   "source": [
    "### List of unique NRIC"
   ]
  },
  {
   "cell_type": "code",
   "execution_count": null,
   "metadata": {},
   "outputs": [],
   "source": [
    "# Number of Unique NRIC (New Formatted)\n",
    "unique_nric = pd.DataFrame(new_data[\"New NRIC\"].unique(), columns=[\"NRIC\"])\n",
    "unique_nric.index = unique_nric.index + 1\n",
    "unique_nric = unique_nric.rename_axis(\"S/N\").reset_index()\n",
    "\n",
    "unique_nric.head(15)"
   ]
  },
  {
   "cell_type": "code",
   "execution_count": null,
   "metadata": {},
   "outputs": [],
   "source": [
    "#creating new dataframe so that it can be export to excel based on the given requirement.\n",
    "unique_nric_final = pd.DataFrame(unique_nric[[\"S/N\",\"NRIC\"]]).set_index(\"S/N\")\n",
    "\n",
    "unique_nric_final.head(15)"
   ]
  },
  {
   "cell_type": "code",
   "execution_count": null,
   "metadata": {},
   "outputs": [],
   "source": [
    "#export to excel, stored under 02_exported_worksheet folder\n",
    "unique_nric_final.to_excel(\"02_exported_worksheet/unique_num_nric.xlsx\")"
   ]
  },
  {
   "attachments": {},
   "cell_type": "markdown",
   "metadata": {},
   "source": [
    "### Number of NRIC not found in Extra Information"
   ]
  },
  {
   "cell_type": "code",
   "execution_count": null,
   "metadata": {},
   "outputs": [],
   "source": [
    "#Number of NRIC under Demographics that are found in Extra Information workshee.\n",
    "\n",
    "nric_notin = pd.DataFrame(data[~data[\"NRIC\"].isin(data_extra[\"NRIC\"])])\n",
    "print(nric_notin.shape)\n",
    "\n",
    "nric_notin.reset_index(drop=True, inplace=True)\n",
    "nric_notin.index = nric_notin.index + 1\n",
    "\n",
    "#creating new dataframe so that it can be export to excel based on the given requirement.\n",
    "nric_notin_final = pd.DataFrame(nric_notin[[\"NRIC\"]].rename_axis(\"S/N\"))\n",
    "nric_notin_final.head()\n"
   ]
  },
  {
   "cell_type": "code",
   "execution_count": null,
   "metadata": {},
   "outputs": [],
   "source": [
    "#export to excel, stored under 02_exported_worksheet folder\n",
    "nric_notin_final.to_excel(\"02_exported_worksheet/nric_not_found.xlsx\")"
   ]
  },
  {
   "attachments": {},
   "cell_type": "markdown",
   "metadata": {},
   "source": [
    "## Worksheet: Pivot Table\n",
    "\n",
    "Only prepare the necessary dataframe to be export to excel in order to work in Excel for the Pivot Table Feature"
   ]
  },
  {
   "cell_type": "code",
   "execution_count": null,
   "metadata": {},
   "outputs": [],
   "source": [
    "#Checking the necessary columns - Age Group, Gender and Marital Status are sitting in data variable well before exporting to excel\n",
    "data.head(15)"
   ]
  },
  {
   "cell_type": "code",
   "execution_count": null,
   "metadata": {},
   "outputs": [],
   "source": [
    "#export to excel, stored under 02_exported_worksheet folder\n",
    "data.to_excel(\"02_exported_worksheet/data.xlsx\")\n"
   ]
  }
 ],
 "metadata": {
  "kernelspec": {
   "display_name": ".venv",
   "language": "python",
   "name": "python3"
  },
  "language_info": {
   "codemirror_mode": {
    "name": "ipython",
    "version": 3
   },
   "file_extension": ".py",
   "mimetype": "text/x-python",
   "name": "python",
   "nbconvert_exporter": "python",
   "pygments_lexer": "ipython3",
   "version": "3.9.2"
  },
  "orig_nbformat": 4
 },
 "nbformat": 4,
 "nbformat_minor": 2
}
